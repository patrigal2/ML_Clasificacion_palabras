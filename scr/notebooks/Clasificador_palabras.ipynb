{
 "cells": [
  {
   "cell_type": "code",
   "execution_count": 62,
   "metadata": {},
   "outputs": [],
   "source": [
    "import numpy as np\n",
    "import pandas as pd\n",
    "import string\n",
    "import matplotlib.pyplot as plt\n",
    "import seaborn as sns\n",
    "import requests\n",
    "from bs4 import BeautifulSoup\n",
    "import re\n",
    "from sklearn.feature_extraction.text import TfidfVectorizer\n",
    "from sklearn.model_selection import train_test_split, cross_val_score\n",
    "from sklearn.ensemble import RandomForestClassifier\n",
    "from sklearn.metrics import classification_report, confusion_matrix, roc_curve, auc\n",
    "from sklearn.preprocessing import LabelEncoder\n",
    "from sklearn.linear_model import LogisticRegression\n",
    "from imblearn.over_sampling import SMOTE\n",
    "import xgboost as xgb\n",
    "from sklearn.model_selection import GridSearchCV\n",
    "import sqlite3\n",
    "import joblib\n",
    "\n",
    "\n"
   ]
  },
  {
   "cell_type": "markdown",
   "metadata": {},
   "source": [
    "Tenemos dos tipos de archivos, un txt con todas las palabras de castellano que las hemos sacado de github y \n",
    "tres csv-s con palabras en euskara que se han conseguido mediante scrapping en las web de wikipedia."
   ]
  },
  {
   "cell_type": "markdown",
   "metadata": {},
   "source": [
    "### EUSKARA"
   ]
  },
  {
   "cell_type": "code",
   "execution_count": 7,
   "metadata": {},
   "outputs": [
    {
     "name": "stdout",
     "output_type": "stream",
     "text": [
      "['lotuta', 'atari', 'otsailaren', 'aldatu,', 'gipuzkoarra', 'Ikus', 'orokorra', 'Harian', 'Oroiteria:[14]', 'European']\n"
     ]
    }
   ],
   "source": [
    "# URL\n",
    "url = 'https://eu.wikipedia.org/wiki/Berria'\n",
    "\n",
    "# solicitud HTTP\n",
    "response = requests.get(url)\n",
    "soup = BeautifulSoup(response.text, 'html.parser')\n",
    "\n",
    "# Localizar el contenido principal del artículo que queremos utilizar\n",
    "contenido_articulo = soup.find('div', {'id': 'bodyContent'})  \n",
    "\n",
    "# Si encontramos el contenido, extraemos el texto\n",
    "palabras = []\n",
    "if contenido_articulo:\n",
    "    texto = contenido_articulo.get_text() \n",
    "    palabras.extend(texto.split())  # Dividir los textos en palabras\n",
    "\n",
    "# Filtramos los duplicados\n",
    "palabras = list(set(palabras))\n",
    "\n",
    "# Mostramos algunas palabras\n",
    "print(palabras[:10])\n",
    "\n",
    "# Guardamos las palabras en un CSV\n",
    "df_euskara_1 = pd.DataFrame(palabras, columns=['palabra'])\n",
    "df_euskara_1[\"idioma\"] = \"euskara\"  \n",
    "df_euskara_1.to_csv(\"palabras_euskara_uno.csv\", index=False)\n"
   ]
  },
  {
   "cell_type": "code",
   "execution_count": 8,
   "metadata": {},
   "outputs": [
    {
     "name": "stdout",
     "output_type": "stream",
     "text": [
      "['lotuta', 'atari', 'otsailaren', 'aldatu,', 'gipuzkoarra', 'Ikus', 'orokorra', 'Harian', 'Oroiteria:[14]', 'European']\n"
     ]
    }
   ],
   "source": [
    "# URL \n",
    "url = \"https://eu.wikipedia.org/wiki/Euskal_Herriko_historia\"\n",
    "\n",
    "# solicitud HTTP\n",
    "response = requests.get(url)\n",
    "\n",
    "# Verificamos que la solicitud es ok\n",
    "if response.status_code == 200:\n",
    "    # Parseamos el contenido HTML de la web\n",
    "    soup = BeautifulSoup(response.text, 'html.parser')\n",
    "\n",
    "    # Buscamos todos los párrafos\n",
    "    paragraphs = soup.find_all('p')\n",
    "\n",
    "    # guardamos todas las palabras extraidas en una lista\n",
    "    palabras_euskara = []\n",
    "\n",
    "    # Sacamos las palabras de cada párrafo\n",
    "    for paragraph in paragraphs:\n",
    "        text = paragraph.get_text(strip=True)\n",
    "\n",
    "        # Dividir el texto en palabras\n",
    "        words = text.split()\n",
    "\n",
    "        # Filtramos las palabras que solo contienen letras\n",
    "        for word in words:\n",
    "            if word.isalpha(): \n",
    "                palabras_euskara.append(word.lower())  # Convertimos a minúsculas \n",
    "\n",
    "    # DataFrame con las palabras extraídas\n",
    "    df_euskara_2 = pd.DataFrame(palabras_euskara, columns=[\"palabra\"])\n",
    "    df_euskara_2[\"idioma\"] = \"euskara\" \n",
    "\n",
    "    # Mostramos algunas palabras\n",
    "    print(palabras[:10])\n",
    "\n",
    "    # Guardamos las palabras en un CSV\n",
    "    df_euskara_2.to_csv(\"palabras_euskera_dos.csv\", index=False)\n",
    "else:\n",
    "    print(f\"Error: {response.status_code}\")\n"
   ]
  },
  {
   "cell_type": "code",
   "execution_count": 9,
   "metadata": {},
   "outputs": [
    {
     "name": "stdout",
     "output_type": "stream",
     "text": [
      "['Edukiak', 'mugitu', 'alboko', 'barrara', 'ezkutatu']\n"
     ]
    }
   ],
   "source": [
    "# URL\n",
    "url = \"https://eu.wikipedia.org/wiki/Euskal_Herria\"\n",
    "\n",
    "# solicitud HTTP\n",
    "response = requests.get(url)\n",
    "soup = BeautifulSoup(response.content, \"html.parser\")\n",
    "\n",
    "# Extraemos el texto\n",
    "contenido = soup.find(\"div\", class_=\"mw-page-container-inner\")\n",
    "\n",
    "# solo palabras\n",
    "palabras_2 = contenido.get_text(separator=' ').split()\n",
    "\n",
    "# Mostamos algunas palabras\n",
    "print(palabras_2[:5])\n",
    "\n",
    "# Dataframe\n",
    "df_euskara_3 = pd.DataFrame(palabras_2, columns=[\"palabra\"])\n",
    "df_euskara_3[\"idioma\"] = \"euskara\"  \n",
    "\n",
    "# Guardamos el DataFrame como CSV\n",
    "df_euskara_3.to_csv(\"palabras_euskera_tres.csv\", index=False)\n"
   ]
  },
  {
   "cell_type": "code",
   "execution_count": 10,
   "metadata": {},
   "outputs": [
    {
     "data": {
      "text/html": [
       "<div>\n",
       "<style scoped>\n",
       "    .dataframe tbody tr th:only-of-type {\n",
       "        vertical-align: middle;\n",
       "    }\n",
       "\n",
       "    .dataframe tbody tr th {\n",
       "        vertical-align: top;\n",
       "    }\n",
       "\n",
       "    .dataframe thead th {\n",
       "        text-align: right;\n",
       "    }\n",
       "</style>\n",
       "<table border=\"1\" class=\"dataframe\">\n",
       "  <thead>\n",
       "    <tr style=\"text-align: right;\">\n",
       "      <th></th>\n",
       "      <th>palabra</th>\n",
       "      <th>idioma</th>\n",
       "    </tr>\n",
       "  </thead>\n",
       "  <tbody>\n",
       "    <tr>\n",
       "      <th>0</th>\n",
       "      <td>lotuta</td>\n",
       "      <td>euskara</td>\n",
       "    </tr>\n",
       "    <tr>\n",
       "      <th>1</th>\n",
       "      <td>atari</td>\n",
       "      <td>euskara</td>\n",
       "    </tr>\n",
       "    <tr>\n",
       "      <th>2</th>\n",
       "      <td>otsailaren</td>\n",
       "      <td>euskara</td>\n",
       "    </tr>\n",
       "    <tr>\n",
       "      <th>3</th>\n",
       "      <td>aldatu,</td>\n",
       "      <td>euskara</td>\n",
       "    </tr>\n",
       "    <tr>\n",
       "      <th>4</th>\n",
       "      <td>gipuzkoarra</td>\n",
       "      <td>euskara</td>\n",
       "    </tr>\n",
       "  </tbody>\n",
       "</table>\n",
       "</div>"
      ],
      "text/plain": [
       "       palabra   idioma\n",
       "0       lotuta  euskara\n",
       "1        atari  euskara\n",
       "2   otsailaren  euskara\n",
       "3      aldatu,  euskara\n",
       "4  gipuzkoarra  euskara"
      ]
     },
     "execution_count": 10,
     "metadata": {},
     "output_type": "execute_result"
    }
   ],
   "source": [
    "# Combinar los tres DataFrames en uno solo\n",
    "df_completo = pd.concat([df_euskara_1, df_euskara_2,df_euskara_3], ignore_index=True)\n",
    "\n",
    "# Guardamos el DataFrame \n",
    "df_completo.to_csv(\"palabras_euskera_completo.csv\", index=False)\n",
    "\n",
    "df_completo.head()"
   ]
  },
  {
   "cell_type": "markdown",
   "metadata": {},
   "source": [
    "### CASTELLANO"
   ]
  },
  {
   "cell_type": "markdown",
   "metadata": {},
   "source": [
    "Descargamos un txt que contiene palabras en castellano desde github"
   ]
  },
  {
   "cell_type": "markdown",
   "metadata": {},
   "source": [
    "## MINI EDA"
   ]
  },
  {
   "cell_type": "markdown",
   "metadata": {},
   "source": [
    "### CARGA Y PROCESAMIENTO DE DATOS"
   ]
  },
  {
   "cell_type": "code",
   "execution_count": 11,
   "metadata": {},
   "outputs": [
    {
     "data": {
      "text/html": [
       "<div>\n",
       "<style scoped>\n",
       "    .dataframe tbody tr th:only-of-type {\n",
       "        vertical-align: middle;\n",
       "    }\n",
       "\n",
       "    .dataframe tbody tr th {\n",
       "        vertical-align: top;\n",
       "    }\n",
       "\n",
       "    .dataframe thead th {\n",
       "        text-align: right;\n",
       "    }\n",
       "</style>\n",
       "<table border=\"1\" class=\"dataframe\">\n",
       "  <thead>\n",
       "    <tr style=\"text-align: right;\">\n",
       "      <th></th>\n",
       "      <th>palabra</th>\n",
       "      <th>idioma</th>\n",
       "    </tr>\n",
       "  </thead>\n",
       "  <tbody>\n",
       "    <tr>\n",
       "      <th>0</th>\n",
       "      <td>lotuta</td>\n",
       "      <td>euskara</td>\n",
       "    </tr>\n",
       "    <tr>\n",
       "      <th>1</th>\n",
       "      <td>atari</td>\n",
       "      <td>euskara</td>\n",
       "    </tr>\n",
       "    <tr>\n",
       "      <th>2</th>\n",
       "      <td>otsailaren</td>\n",
       "      <td>euskara</td>\n",
       "    </tr>\n",
       "    <tr>\n",
       "      <th>3</th>\n",
       "      <td>aldatu,</td>\n",
       "      <td>euskara</td>\n",
       "    </tr>\n",
       "    <tr>\n",
       "      <th>4</th>\n",
       "      <td>gipuzkoarra</td>\n",
       "      <td>euskara</td>\n",
       "    </tr>\n",
       "    <tr>\n",
       "      <th>5</th>\n",
       "      <td>Ikus</td>\n",
       "      <td>euskara</td>\n",
       "    </tr>\n",
       "    <tr>\n",
       "      <th>6</th>\n",
       "      <td>orokorra</td>\n",
       "      <td>euskara</td>\n",
       "    </tr>\n",
       "    <tr>\n",
       "      <th>7</th>\n",
       "      <td>Harian</td>\n",
       "      <td>euskara</td>\n",
       "    </tr>\n",
       "    <tr>\n",
       "      <th>8</th>\n",
       "      <td>Oroiteria:[14]</td>\n",
       "      <td>euskara</td>\n",
       "    </tr>\n",
       "    <tr>\n",
       "      <th>9</th>\n",
       "      <td>European</td>\n",
       "      <td>euskara</td>\n",
       "    </tr>\n",
       "  </tbody>\n",
       "</table>\n",
       "</div>"
      ],
      "text/plain": [
       "          palabra   idioma\n",
       "0          lotuta  euskara\n",
       "1           atari  euskara\n",
       "2      otsailaren  euskara\n",
       "3         aldatu,  euskara\n",
       "4     gipuzkoarra  euskara\n",
       "5            Ikus  euskara\n",
       "6        orokorra  euskara\n",
       "7          Harian  euskara\n",
       "8  Oroiteria:[14]  euskara\n",
       "9        European  euskara"
      ]
     },
     "execution_count": 11,
     "metadata": {},
     "output_type": "execute_result"
    }
   ],
   "source": [
    "# Cargamos archivo csv Euskara\n",
    "euskara_df = pd.read_csv(\"/Users/patri/Desktop/DS24/ONLINE_DS_THEBRIDGE_PGF/PROJECT_BREAK_ML/palabras_euskera_completo.csv\")\n",
    "\n",
    "# Cargamos archivo txt Castellano y convertimos en DataFrame\n",
    "with open(\"/Users/patri/Desktop/DS24/ONLINE_DS_THEBRIDGE_PGF/PROJECT_BREAK_ML/0_palabras_todas.txt\", 'r', encoding='utf-8') as file:\n",
    "    castellano_words = file.read().splitlines()\n",
    "    \n",
    "castellano_df = pd.DataFrame(castellano_words, columns=[\"palabra\"])\n",
    "\n",
    "# Añadir la columna de idioma\n",
    "euskara_df[\"idioma\"] = \"euskara\"\n",
    "castellano_df[\"idioma\"] = \"castellano\"\n",
    "\n",
    "# Unir los dos DataFrames\n",
    "df = pd.concat([euskara_df, castellano_df], ignore_index=True)\n",
    "\n",
    "df.head(10)\n"
   ]
  },
  {
   "cell_type": "code",
   "execution_count": 12,
   "metadata": {},
   "outputs": [
    {
     "data": {
      "text/plain": [
       "idioma\n",
       "castellano    647161\n",
       "euskara        26635\n",
       "Name: count, dtype: int64"
      ]
     },
     "execution_count": 12,
     "metadata": {},
     "output_type": "execute_result"
    }
   ],
   "source": [
    "df[\"idioma\"].value_counts()"
   ]
  },
  {
   "cell_type": "code",
   "execution_count": 13,
   "metadata": {},
   "outputs": [
    {
     "name": "stdout",
     "output_type": "stream",
     "text": [
      "Antes de ajustar el tamaño de castellano:\n",
      "idioma\n",
      "castellano    647161\n",
      "euskara        26635\n",
      "Name: count, dtype: int64\n",
      "\n",
      "Después de ajustar el tamaño de castellano:\n",
      "idioma\n",
      "castellano    53270\n",
      "euskara       26635\n",
      "Name: count, dtype: int64\n"
     ]
    }
   ],
   "source": [
    "#el dataset esta muy desbalanceado, lo ajustamos.\n",
    "\n",
    "# tamaño actual de las clases\n",
    "print(f\"Antes de ajustar el tamaño de castellano:\")\n",
    "print(df[\"idioma\"].value_counts())\n",
    "\n",
    "# Calculamos el valuecounts de la clase euskara\n",
    "euskara_count = df[\"idioma\"].value_counts()[\"euskara\"]\n",
    "\n",
    "# Ajustamos la clase castellano por el doble del euskara\n",
    "castellano_count = euskara_count * 2 \n",
    "\n",
    "# Filtramos las palabras de castellano y ajustarlas\n",
    "castellano_df_adjusted = castellano_df.sample(n=castellano_count, random_state=42)\n",
    "\n",
    "# juntamos los DataFrames ajustados\n",
    "df= pd.concat([euskara_df, castellano_df_adjusted], ignore_index=True)\n",
    "\n",
    "# tamaño de las clases después del ajuste\n",
    "print(f\"\\nDespués de ajustar el tamaño de castellano:\")\n",
    "print(df['idioma'].value_counts())"
   ]
  },
  {
   "cell_type": "code",
   "execution_count": 14,
   "metadata": {},
   "outputs": [
    {
     "data": {
      "text/plain": [
       "0            lotuta\n",
       "1             atari\n",
       "2        otsailaren\n",
       "3           aldatu,\n",
       "4       gipuzkoarra\n",
       "5              Ikus\n",
       "6          orokorra\n",
       "7            Harian\n",
       "8    Oroiteria:[14]\n",
       "9          European\n",
       "Name: palabra, dtype: object"
      ]
     },
     "execution_count": 14,
     "metadata": {},
     "output_type": "execute_result"
    }
   ],
   "source": [
    "df['palabra'].head(10) #vemos signos al final y al principio de las palabras"
   ]
  },
  {
   "cell_type": "code",
   "execution_count": 15,
   "metadata": {},
   "outputs": [
    {
     "data": {
      "text/html": [
       "<div>\n",
       "<style scoped>\n",
       "    .dataframe tbody tr th:only-of-type {\n",
       "        vertical-align: middle;\n",
       "    }\n",
       "\n",
       "    .dataframe tbody tr th {\n",
       "        vertical-align: top;\n",
       "    }\n",
       "\n",
       "    .dataframe thead th {\n",
       "        text-align: right;\n",
       "    }\n",
       "</style>\n",
       "<table border=\"1\" class=\"dataframe\">\n",
       "  <thead>\n",
       "    <tr style=\"text-align: right;\">\n",
       "      <th></th>\n",
       "      <th>palabra</th>\n",
       "      <th>idioma</th>\n",
       "    </tr>\n",
       "  </thead>\n",
       "  <tbody>\n",
       "    <tr>\n",
       "      <th>0</th>\n",
       "      <td>lotuta</td>\n",
       "      <td>euskara</td>\n",
       "    </tr>\n",
       "    <tr>\n",
       "      <th>1</th>\n",
       "      <td>atari</td>\n",
       "      <td>euskara</td>\n",
       "    </tr>\n",
       "    <tr>\n",
       "      <th>2</th>\n",
       "      <td>otsailaren</td>\n",
       "      <td>euskara</td>\n",
       "    </tr>\n",
       "    <tr>\n",
       "      <th>3</th>\n",
       "      <td>aldatu</td>\n",
       "      <td>euskara</td>\n",
       "    </tr>\n",
       "    <tr>\n",
       "      <th>4</th>\n",
       "      <td>gipuzkoarra</td>\n",
       "      <td>euskara</td>\n",
       "    </tr>\n",
       "    <tr>\n",
       "      <th>...</th>\n",
       "      <td>...</td>\n",
       "      <td>...</td>\n",
       "    </tr>\n",
       "    <tr>\n",
       "      <th>80063</th>\n",
       "      <td>reconcilió</td>\n",
       "      <td>castellano</td>\n",
       "    </tr>\n",
       "    <tr>\n",
       "      <th>80064</th>\n",
       "      <td>permutasen</td>\n",
       "      <td>castellano</td>\n",
       "    </tr>\n",
       "    <tr>\n",
       "      <th>80065</th>\n",
       "      <td>entrecierres</td>\n",
       "      <td>castellano</td>\n",
       "    </tr>\n",
       "    <tr>\n",
       "      <th>80066</th>\n",
       "      <td>desfibrarían</td>\n",
       "      <td>castellano</td>\n",
       "    </tr>\n",
       "    <tr>\n",
       "      <th>80067</th>\n",
       "      <td>embanderéis</td>\n",
       "      <td>castellano</td>\n",
       "    </tr>\n",
       "  </tbody>\n",
       "</table>\n",
       "<p>76762 rows × 2 columns</p>\n",
       "</div>"
      ],
      "text/plain": [
       "            palabra      idioma\n",
       "0            lotuta     euskara\n",
       "1             atari     euskara\n",
       "2        otsailaren     euskara\n",
       "3            aldatu     euskara\n",
       "4       gipuzkoarra     euskara\n",
       "...             ...         ...\n",
       "80063    reconcilió  castellano\n",
       "80064    permutasen  castellano\n",
       "80065  entrecierres  castellano\n",
       "80066  desfibrarían  castellano\n",
       "80067   embanderéis  castellano\n",
       "\n",
       "[76762 rows x 2 columns]"
      ]
     },
     "execution_count": 15,
     "metadata": {},
     "output_type": "execute_result"
    }
   ],
   "source": [
    "#hacemos una copia del Df\n",
    "df = df.copy()\n",
    "\n",
    "# Funciónn de limpieza\n",
    "def limpiar_palabra(palabra):\n",
    "    if isinstance(palabra, str):\n",
    "        return re.sub(r'[^a-zA-ZáéíóúÁÉÍÓÚñÑ]', '', palabra)\n",
    "    return ''\n",
    "\n",
    "# Función de división (hay palabras en euskara juntas que son en realidad 1 y se distinguen por la mayuscula que hay en medio)\n",
    "def dividir_por_mayusculas(palabra):\n",
    "    if isinstance(palabra, str):\n",
    "        return re.findall(r'[A-ZÁÉÍÓÚÑ][a-záéíóúñ]+|[a-záéíóúñ]+', palabra)\n",
    "    return []\n",
    "\n",
    "\n",
    "# LIMPIEZA\n",
    "\n",
    "# Paso 1: limpieza de caracteres no alfabéticos\n",
    "df[\"palabra\"] = df[\"palabra\"].apply(limpiar_palabra)\n",
    "\n",
    "# Paso 2: división por mayúsculas\n",
    "df[\"palabra_lista\"] = df[\"palabra\"].apply(dividir_por_mayusculas)\n",
    "\n",
    "# Paso 3: transformamos la palabra conjunta en dos o X palabras y creamos otra fila\n",
    "df = df.explode(\"palabra_lista\") \n",
    "\n",
    "# Paso 4: reasignamos palabra buena\n",
    "df['palabra'] = df['palabra_lista']\n",
    "df = df.drop(columns=['palabra_lista'])\n",
    "\n",
    "# Paso 5: generamos un nuevo índice\n",
    "df.reset_index(drop=True, inplace=True)\n",
    "\n",
    "# Paso 6: solo letras al principio\n",
    "filtro_valido = df['palabra'].apply(lambda x: isinstance(x, str) and re.match(r'^[a-zA-ZáéíóúÁÉÍÓÚñÑ]', x) is not None)\n",
    "df = df.loc[filtro_valido].copy()\n",
    "\n",
    "# Paso 7: convertimos todas las palabras a minúsculas\n",
    "df['palabra'] = df['palabra'].str.lower()\n",
    "\n",
    "\n",
    "df\n"
   ]
  },
  {
   "cell_type": "markdown",
   "metadata": {},
   "source": [
    "### DISTRIBUCIÓN DE LAS CLASES"
   ]
  },
  {
   "cell_type": "code",
   "execution_count": 16,
   "metadata": {},
   "outputs": [
    {
     "data": {
      "image/png": "[encoded data removed]",
      "text/plain": [
       "<Figure size 800x600 with 1 Axes>"
      ]
     },
     "metadata": {},
     "output_type": "display_data"
    },
    {
     "name": "stdout",
     "output_type": "stream",
     "text": [
      "Distribución de las clases:\n",
      "idioma\n",
      "castellano    53270\n",
      "euskara       23492\n",
      "Name: count, dtype: int64\n"
     ]
    }
   ],
   "source": [
    "clase_distr = df[\"idioma\"].value_counts()\n",
    "\n",
    "# Visualización la distribución\n",
    "plt.figure(figsize=(8, 6))\n",
    "clase_distr.plot(kind=\"bar\", color=[\"blue\", \"green\"])\n",
    "plt.title(\"Distribución de palabras por idioma\")\n",
    "plt.xlabel(\"Idioma\")\n",
    "plt.ylabel(\"Número de palabras\")\n",
    "plt.xticks(rotation=0)\n",
    "plt.show();\n",
    "\n",
    "print(f\"Distribución de las clases:\\n{clase_distr}\")"
   ]
  },
  {
   "cell_type": "code",
   "execution_count": 17,
   "metadata": {},
   "outputs": [
    {
     "name": "stdout",
     "output_type": "stream",
     "text": [
      "Tamaño total del dataset: 76762\n"
     ]
    }
   ],
   "source": [
    "# Ver el tamaño del dataset\n",
    "print(f\"Tamaño total del dataset: {len(df)}\")"
   ]
  },
  {
   "cell_type": "markdown",
   "metadata": {},
   "source": [
    "### Frecuencia de las palabras de cada idioma"
   ]
  },
  {
   "cell_type": "code",
   "execution_count": 18,
   "metadata": {},
   "outputs": [
    {
     "name": "stdout",
     "output_type": "stream",
     "text": [
      "Palabras más frecuentes en Euskera:\n",
      " Series([], Name: count, dtype: int64)\n",
      "Palabras más frecuentes en Castellano:\n",
      " palabra\n",
      "absorbéis           1\n",
      "descristianizará    1\n",
      "epatábamos          1\n",
      "pintarrajasteis     1\n",
      "apechásemos         1\n",
      "lacandona           1\n",
      "populariza          1\n",
      "refringe            1\n",
      "chuchearon          1\n",
      "conformaste         1\n",
      "Name: count, dtype: int64\n"
     ]
    }
   ],
   "source": [
    "# palabras más frecuentes en euskera\n",
    "euskara_palabras = df[df[\"idioma\"] == \"euskera\"][\"palabra\"].value_counts().head(10)\n",
    "print(\"Palabras más frecuentes en Euskera:\\n\", euskara_palabras)\n",
    "\n",
    "# palabras más frecuentes en castellano\n",
    "castellano_palabras = df[df[\"idioma\"] == \"castellano\"][\"palabra\"].value_counts().head(10)\n",
    "print(\"Palabras más frecuentes en Castellano:\\n\", castellano_palabras)"
   ]
  },
  {
   "cell_type": "markdown",
   "metadata": {},
   "source": [
    "**1. Distribución de las clases:**\n",
    "\n",
    "- Castellano: 53.270 palabras.\n",
    "- Euskara: 23.492 palabras.\n",
    "\n",
    "La distribución muestra que, después del ajuste, tenemos un conjunto de datos más balanceado, pero aún con un desequilibrio entre castellano y euskara.\n",
    "\n",
    "**2. Tamaño total del dataset:**\n",
    "Total de 76.762 filas (palabras en total) después del ajuste del tamaño del conjunto de datos.\n",
    "\n",
    "**3. Palabras más frecuentes:**\n",
    "\n",
    "- Euskara: No hay palabras frecuentes mostradas, probablemente porque el conjunto de datos de euskara es pequeño y tiene pocas repeticiones.\n",
    "- Castellano: La lista muestra algunas palabras con una sola aparición, como \"absorbéis\", \"pintarrajasteis\", \"chuchearon\", etc. Esto indica que las palabras del conjunto de datos de castellano son muy variadas, pero todas parecen tener una frecuencia de 1."
   ]
  },
  {
   "cell_type": "markdown",
   "metadata": {},
   "source": [
    "## MODELO MACHINE LEARNING"
   ]
  },
  {
   "cell_type": "markdown",
   "metadata": {},
   "source": [
    "### PREPORCESAMIENTO PARA MODELADO"
   ]
  },
  {
   "cell_type": "code",
   "execution_count": 19,
   "metadata": {},
   "outputs": [
    {
     "name": "stdout",
     "output_type": "stream",
     "text": [
      "(76762, 5000)\n"
     ]
    }
   ],
   "source": [
    "# Vectorizamos las palabras usando TF-IDF\n",
    "vectorizer = TfidfVectorizer(max_features=5000)  \n",
    "X_vect = vectorizer.fit_transform(df[\"palabra\"])\n",
    "\n",
    "print(X_vect.shape)"
   ]
  },
  {
   "cell_type": "markdown",
   "metadata": {},
   "source": [
    "### ENTRENAMIENTO"
   ]
  },
  {
   "cell_type": "code",
   "execution_count": 20,
   "metadata": {},
   "outputs": [],
   "source": [
    "# Extraer las etiquetas (idioma)\n",
    "y = df[\"idioma\"]\n",
    "\n",
    "# Dividir los datos en conjunto de entrenamiento y prueba\n",
    "X_train, X_test, y_train, y_test = train_test_split(X_vect, y, test_size=0.3, random_state=42)\n"
   ]
  },
  {
   "cell_type": "code",
   "execution_count": 21,
   "metadata": {},
   "outputs": [
    {
     "data": {
      "text/html": [
       "<style>#sk-container-id-1 {color: black;}#sk-container-id-1 pre{padding: 0;}#sk-container-id-1 div.sk-toggleable {background-color: white;}#sk-container-id-1 label.sk-toggleable__label {cursor: pointer;display: block;width: 100%;margin-bottom: 0;padding: 0.3em;box-sizing: border-box;text-align: center;}#sk-container-id-1 label.sk-toggleable__label-arrow:before {content: \"▸\";float: left;margin-right: 0.25em;color: #696969;}#sk-container-id-1 label.sk-toggleable__label-arrow:hover:before {color: black;}#sk-container-id-1 div.sk-estimator:hover label.sk-toggleable__label-arrow:before {color: black;}#sk-container-id-1 div.sk-toggleable__content {max-height: 0;max-width: 0;overflow: hidden;text-align: left;background-color: #f0f8ff;}#sk-container-id-1 div.sk-toggleable__content pre {margin: 0.2em;color: black;border-radius: 0.25em;background-color: #f0f8ff;}#sk-container-id-1 input.sk-toggleable__control:checked~div.sk-toggleable__content {max-height: 200px;max-width: 100%;overflow: auto;}#sk-container-id-1 input.sk-toggleable__control:checked~label.sk-toggleable__label-arrow:before {content: \"▾\";}#sk-container-id-1 div.sk-estimator input.sk-toggleable__control:checked~label.sk-toggleable__label {background-color: #d4ebff;}#sk-container-id-1 div.sk-label input.sk-toggleable__control:checked~label.sk-toggleable__label {background-color: #d4ebff;}#sk-container-id-1 input.sk-hidden--visually {border: 0;clip: rect(1px 1px 1px 1px);clip: rect(1px, 1px, 1px, 1px);height: 1px;margin: -1px;overflow: hidden;padding: 0;position: absolute;width: 1px;}#sk-container-id-1 div.sk-estimator {font-family: monospace;background-color: #f0f8ff;border: 1px dotted black;border-radius: 0.25em;box-sizing: border-box;margin-bottom: 0.5em;}#sk-container-id-1 div.sk-estimator:hover {background-color: #d4ebff;}#sk-container-id-1 div.sk-parallel-item::after {content: \"\";width: 100%;border-bottom: 1px solid gray;flex-grow: 1;}#sk-container-id-1 div.sk-label:hover label.sk-toggleable__label {background-color: #d4ebff;}#sk-container-id-1 div.sk-serial::before {content: \"\";position: absolute;border-left: 1px solid gray;box-sizing: border-box;top: 0;bottom: 0;left: 50%;z-index: 0;}#sk-container-id-1 div.sk-serial {display: flex;flex-direction: column;align-items: center;background-color: white;padding-right: 0.2em;padding-left: 0.2em;position: relative;}#sk-container-id-1 div.sk-item {position: relative;z-index: 1;}#sk-container-id-1 div.sk-parallel {display: flex;align-items: stretch;justify-content: center;background-color: white;position: relative;}#sk-container-id-1 div.sk-item::before, #sk-container-id-1 div.sk-parallel-item::before {content: \"\";position: absolute;border-left: 1px solid gray;box-sizing: border-box;top: 0;bottom: 0;left: 50%;z-index: -1;}#sk-container-id-1 div.sk-parallel-item {display: flex;flex-direction: column;z-index: 1;position: relative;background-color: white;}#sk-container-id-1 div.sk-parallel-item:first-child::after {align-self: flex-end;width: 50%;}#sk-container-id-1 div.sk-parallel-item:last-child::after {align-self: flex-start;width: 50%;}#sk-container-id-1 div.sk-parallel-item:only-child::after {width: 0;}#sk-container-id-1 div.sk-dashed-wrapped {border: 1px dashed gray;margin: 0 0.4em 0.5em 0.4em;box-sizing: border-box;padding-bottom: 0.4em;background-color: white;}#sk-container-id-1 div.sk-label label {font-family: monospace;font-weight: bold;display: inline-block;line-height: 1.2em;}#sk-container-id-1 div.sk-label-container {text-align: center;}#sk-container-id-1 div.sk-container {/* jupyter's `normalize.less` sets `[hidden] { display: none; }` but bootstrap.min.css set `[hidden] { display: none !important; }` so we also need the `!important` here to be able to override the default hidden behavior on the sphinx rendered scikit-learn.org. See: https://github.com/scikit-learn/scikit-learn/issues/21755 */display: inline-block !important;position: relative;}#sk-container-id-1 div.sk-text-repr-fallback {display: none;}</style><div id=\"sk-container-id-1\" class=\"sk-top-container\"><div class=\"sk-text-repr-fallback\"><pre>LabelEncoder()</pre><b>In a Jupyter environment, please rerun this cell to show the HTML representation or trust the notebook. <br />On GitHub, the HTML representation is unable to render, please try loading this page with nbviewer.org.</b></div><div class=\"sk-container\" hidden><div class=\"sk-item\"><div class=\"sk-estimator sk-toggleable\"><input class=\"sk-toggleable__control sk-hidden--visually\" id=\"sk-estimator-id-1\" type=\"checkbox\" checked><label for=\"sk-estimator-id-1\" class=\"sk-toggleable__label sk-toggleable__label-arrow\">LabelEncoder</label><div class=\"sk-toggleable__content\"><pre>LabelEncoder()</pre></div></div></div></div></div>"
      ],
      "text/plain": [
       "LabelEncoder()"
      ]
     },
     "execution_count": 21,
     "metadata": {},
     "output_type": "execute_result"
    }
   ],
   "source": [
    "# Codificamos las etiquetas mediante LabelEncoder #0 Castellano y 1 Euskara\n",
    "label_encoder = LabelEncoder()\n",
    "label_encoder.fit([\"castellano\", \"euskara\"]) "
   ]
  },
  {
   "cell_type": "code",
   "execution_count": 22,
   "metadata": {},
   "outputs": [],
   "source": [
    "# Convertimos las etiquetas en y_train y y_test a valores numéricos (0,1)\n",
    "y_train_encoded = label_encoder.transform(y_train)\n",
    "y_test_encoded = label_encoder.transform(y_test)"
   ]
  },
  {
   "cell_type": "markdown",
   "metadata": {},
   "source": [
    "#### RANDOM FOREST"
   ]
  },
  {
   "cell_type": "code",
   "execution_count": 23,
   "metadata": {},
   "outputs": [
    {
     "data": {
      "text/html": [
       "<style>#sk-container-id-2 {color: black;}#sk-container-id-2 pre{padding: 0;}#sk-container-id-2 div.sk-toggleable {background-color: white;}#sk-container-id-2 label.sk-toggleable__label {cursor: pointer;display: block;width: 100%;margin-bottom: 0;padding: 0.3em;box-sizing: border-box;text-align: center;}#sk-container-id-2 label.sk-toggleable__label-arrow:before {content: \"▸\";float: left;margin-right: 0.25em;color: #696969;}#sk-container-id-2 label.sk-toggleable__label-arrow:hover:before {color: black;}#sk-container-id-2 div.sk-estimator:hover label.sk-toggleable__label-arrow:before {color: black;}#sk-container-id-2 div.sk-toggleable__content {max-height: 0;max-width: 0;overflow: hidden;text-align: left;background-color: #f0f8ff;}#sk-container-id-2 div.sk-toggleable__content pre {margin: 0.2em;color: black;border-radius: 0.25em;background-color: #f0f8ff;}#sk-container-id-2 input.sk-toggleable__control:checked~div.sk-toggleable__content {max-height: 200px;max-width: 100%;overflow: auto;}#sk-container-id-2 input.sk-toggleable__control:checked~label.sk-toggleable__label-arrow:before {content: \"▾\";}#sk-container-id-2 div.sk-estimator input.sk-toggleable__control:checked~label.sk-toggleable__label {background-color: #d4ebff;}#sk-container-id-2 div.sk-label input.sk-toggleable__control:checked~label.sk-toggleable__label {background-color: #d4ebff;}#sk-container-id-2 input.sk-hidden--visually {border: 0;clip: rect(1px 1px 1px 1px);clip: rect(1px, 1px, 1px, 1px);height: 1px;margin: -1px;overflow: hidden;padding: 0;position: absolute;width: 1px;}#sk-container-id-2 div.sk-estimator {font-family: monospace;background-color: #f0f8ff;border: 1px dotted black;border-radius: 0.25em;box-sizing: border-box;margin-bottom: 0.5em;}#sk-container-id-2 div.sk-estimator:hover {background-color: #d4ebff;}#sk-container-id-2 div.sk-parallel-item::after {content: \"\";width: 100%;border-bottom: 1px solid gray;flex-grow: 1;}#sk-container-id-2 div.sk-label:hover label.sk-toggleable__label {background-color: #d4ebff;}#sk-container-id-2 div.sk-serial::before {content: \"\";position: absolute;border-left: 1px solid gray;box-sizing: border-box;top: 0;bottom: 0;left: 50%;z-index: 0;}#sk-container-id-2 div.sk-serial {display: flex;flex-direction: column;align-items: center;background-color: white;padding-right: 0.2em;padding-left: 0.2em;position: relative;}#sk-container-id-2 div.sk-item {position: relative;z-index: 1;}#sk-container-id-2 div.sk-parallel {display: flex;align-items: stretch;justify-content: center;background-color: white;position: relative;}#sk-container-id-2 div.sk-item::before, #sk-container-id-2 div.sk-parallel-item::before {content: \"\";position: absolute;border-left: 1px solid gray;box-sizing: border-box;top: 0;bottom: 0;left: 50%;z-index: -1;}#sk-container-id-2 div.sk-parallel-item {display: flex;flex-direction: column;z-index: 1;position: relative;background-color: white;}#sk-container-id-2 div.sk-parallel-item:first-child::after {align-self: flex-end;width: 50%;}#sk-container-id-2 div.sk-parallel-item:last-child::after {align-self: flex-start;width: 50%;}#sk-container-id-2 div.sk-parallel-item:only-child::after {width: 0;}#sk-container-id-2 div.sk-dashed-wrapped {border: 1px dashed gray;margin: 0 0.4em 0.5em 0.4em;box-sizing: border-box;padding-bottom: 0.4em;background-color: white;}#sk-container-id-2 div.sk-label label {font-family: monospace;font-weight: bold;display: inline-block;line-height: 1.2em;}#sk-container-id-2 div.sk-label-container {text-align: center;}#sk-container-id-2 div.sk-container {/* jupyter's `normalize.less` sets `[hidden] { display: none; }` but bootstrap.min.css set `[hidden] { display: none !important; }` so we also need the `!important` here to be able to override the default hidden behavior on the sphinx rendered scikit-learn.org. See: https://github.com/scikit-learn/scikit-learn/issues/21755 */display: inline-block !important;position: relative;}#sk-container-id-2 div.sk-text-repr-fallback {display: none;}</style><div id=\"sk-container-id-2\" class=\"sk-top-container\"><div class=\"sk-text-repr-fallback\"><pre>RandomForestClassifier(class_weight=&#x27;balanced&#x27;, random_state=42)</pre><b>In a Jupyter environment, please rerun this cell to show the HTML representation or trust the notebook. <br />On GitHub, the HTML representation is unable to render, please try loading this page with nbviewer.org.</b></div><div class=\"sk-container\" hidden><div class=\"sk-item\"><div class=\"sk-estimator sk-toggleable\"><input class=\"sk-toggleable__control sk-hidden--visually\" id=\"sk-estimator-id-2\" type=\"checkbox\" checked><label for=\"sk-estimator-id-2\" class=\"sk-toggleable__label sk-toggleable__label-arrow\">RandomForestClassifier</label><div class=\"sk-toggleable__content\"><pre>RandomForestClassifier(class_weight=&#x27;balanced&#x27;, random_state=42)</pre></div></div></div></div></div>"
      ],
      "text/plain": [
       "RandomForestClassifier(class_weight='balanced', random_state=42)"
      ]
     },
     "execution_count": 23,
     "metadata": {},
     "output_type": "execute_result"
    }
   ],
   "source": [
    "# Entrenamos el modelo Random Forest con ajuste de pesos de clase\n",
    "rf_model_weighted = RandomForestClassifier(n_estimators=100, class_weight='balanced', random_state=42)\n",
    "rf_model_weighted.fit(X_train, y_train_encoded)"
   ]
  },
  {
   "cell_type": "code",
   "execution_count": 24,
   "metadata": {},
   "outputs": [
    {
     "name": "stdout",
     "output_type": "stream",
     "text": [
      "              precision    recall  f1-score   support\n",
      "\n",
      "  castellano       0.89      1.00      0.94     16103\n",
      "     euskara       1.00      0.72      0.83      6926\n",
      "\n",
      "    accuracy                           0.91     23029\n",
      "   macro avg       0.94      0.86      0.89     23029\n",
      "weighted avg       0.92      0.91      0.91     23029\n",
      "\n"
     ]
    }
   ],
   "source": [
    "# Predecir y evaluamos el modelo\n",
    "y_pred_weighted_encoded = rf_model_weighted.predict(X_test)\n",
    "\n",
    "# Convertimos las predicciones de vuelta a las etiquetas originales\n",
    "y_pred_weighted = label_encoder.inverse_transform(y_pred_weighted_encoded)\n",
    "\n",
    "# Informe de clasificación\n",
    "print(classification_report(y_test, y_pred_weighted))"
   ]
  },
  {
   "cell_type": "markdown",
   "metadata": {},
   "source": [
    "#### LOGISTIC REGRESSION"
   ]
  },
  {
   "cell_type": "code",
   "execution_count": 25,
   "metadata": {},
   "outputs": [
    {
     "data": {
      "text/html": [
       "<style>#sk-container-id-3 {color: black;}#sk-container-id-3 pre{padding: 0;}#sk-container-id-3 div.sk-toggleable {background-color: white;}#sk-container-id-3 label.sk-toggleable__label {cursor: pointer;display: block;width: 100%;margin-bottom: 0;padding: 0.3em;box-sizing: border-box;text-align: center;}#sk-container-id-3 label.sk-toggleable__label-arrow:before {content: \"▸\";float: left;margin-right: 0.25em;color: #696969;}#sk-container-id-3 label.sk-toggleable__label-arrow:hover:before {color: black;}#sk-container-id-3 div.sk-estimator:hover label.sk-toggleable__label-arrow:before {color: black;}#sk-container-id-3 div.sk-toggleable__content {max-height: 0;max-width: 0;overflow: hidden;text-align: left;background-color: #f0f8ff;}#sk-container-id-3 div.sk-toggleable__content pre {margin: 0.2em;color: black;border-radius: 0.25em;background-color: #f0f8ff;}#sk-container-id-3 input.sk-toggleable__control:checked~div.sk-toggleable__content {max-height: 200px;max-width: 100%;overflow: auto;}#sk-container-id-3 input.sk-toggleable__control:checked~label.sk-toggleable__label-arrow:before {content: \"▾\";}#sk-container-id-3 div.sk-estimator input.sk-toggleable__control:checked~label.sk-toggleable__label {background-color: #d4ebff;}#sk-container-id-3 div.sk-label input.sk-toggleable__control:checked~label.sk-toggleable__label {background-color: #d4ebff;}#sk-container-id-3 input.sk-hidden--visually {border: 0;clip: rect(1px 1px 1px 1px);clip: rect(1px, 1px, 1px, 1px);height: 1px;margin: -1px;overflow: hidden;padding: 0;position: absolute;width: 1px;}#sk-container-id-3 div.sk-estimator {font-family: monospace;background-color: #f0f8ff;border: 1px dotted black;border-radius: 0.25em;box-sizing: border-box;margin-bottom: 0.5em;}#sk-container-id-3 div.sk-estimator:hover {background-color: #d4ebff;}#sk-container-id-3 div.sk-parallel-item::after {content: \"\";width: 100%;border-bottom: 1px solid gray;flex-grow: 1;}#sk-container-id-3 div.sk-label:hover label.sk-toggleable__label {background-color: #d4ebff;}#sk-container-id-3 div.sk-serial::before {content: \"\";position: absolute;border-left: 1px solid gray;box-sizing: border-box;top: 0;bottom: 0;left: 50%;z-index: 0;}#sk-container-id-3 div.sk-serial {display: flex;flex-direction: column;align-items: center;background-color: white;padding-right: 0.2em;padding-left: 0.2em;position: relative;}#sk-container-id-3 div.sk-item {position: relative;z-index: 1;}#sk-container-id-3 div.sk-parallel {display: flex;align-items: stretch;justify-content: center;background-color: white;position: relative;}#sk-container-id-3 div.sk-item::before, #sk-container-id-3 div.sk-parallel-item::before {content: \"\";position: absolute;border-left: 1px solid gray;box-sizing: border-box;top: 0;bottom: 0;left: 50%;z-index: -1;}#sk-container-id-3 div.sk-parallel-item {display: flex;flex-direction: column;z-index: 1;position: relative;background-color: white;}#sk-container-id-3 div.sk-parallel-item:first-child::after {align-self: flex-end;width: 50%;}#sk-container-id-3 div.sk-parallel-item:last-child::after {align-self: flex-start;width: 50%;}#sk-container-id-3 div.sk-parallel-item:only-child::after {width: 0;}#sk-container-id-3 div.sk-dashed-wrapped {border: 1px dashed gray;margin: 0 0.4em 0.5em 0.4em;box-sizing: border-box;padding-bottom: 0.4em;background-color: white;}#sk-container-id-3 div.sk-label label {font-family: monospace;font-weight: bold;display: inline-block;line-height: 1.2em;}#sk-container-id-3 div.sk-label-container {text-align: center;}#sk-container-id-3 div.sk-container {/* jupyter's `normalize.less` sets `[hidden] { display: none; }` but bootstrap.min.css set `[hidden] { display: none !important; }` so we also need the `!important` here to be able to override the default hidden behavior on the sphinx rendered scikit-learn.org. See: https://github.com/scikit-learn/scikit-learn/issues/21755 */display: inline-block !important;position: relative;}#sk-container-id-3 div.sk-text-repr-fallback {display: none;}</style><div id=\"sk-container-id-3\" class=\"sk-top-container\"><div class=\"sk-text-repr-fallback\"><pre>LogisticRegression(class_weight=&#x27;balanced&#x27;, max_iter=1000, random_state=42)</pre><b>In a Jupyter environment, please rerun this cell to show the HTML representation or trust the notebook. <br />On GitHub, the HTML representation is unable to render, please try loading this page with nbviewer.org.</b></div><div class=\"sk-container\" hidden><div class=\"sk-item\"><div class=\"sk-estimator sk-toggleable\"><input class=\"sk-toggleable__control sk-hidden--visually\" id=\"sk-estimator-id-3\" type=\"checkbox\" checked><label for=\"sk-estimator-id-3\" class=\"sk-toggleable__label sk-toggleable__label-arrow\">LogisticRegression</label><div class=\"sk-toggleable__content\"><pre>LogisticRegression(class_weight=&#x27;balanced&#x27;, max_iter=1000, random_state=42)</pre></div></div></div></div></div>"
      ],
      "text/plain": [
       "LogisticRegression(class_weight='balanced', max_iter=1000, random_state=42)"
      ]
     },
     "execution_count": 25,
     "metadata": {},
     "output_type": "execute_result"
    }
   ],
   "source": [
    "#Entrenamos el modelo de Regresión Logística con ajuste de pesos de clase\n",
    "logreg_weighted = LogisticRegression(max_iter=1000, class_weight='balanced', random_state=42)\n",
    "logreg_weighted.fit(X_train, y_train_encoded)"
   ]
  },
  {
   "cell_type": "code",
   "execution_count": 26,
   "metadata": {},
   "outputs": [
    {
     "name": "stdout",
     "output_type": "stream",
     "text": [
      "              precision    recall  f1-score   support\n",
      "\n",
      "  castellano       0.86      1.00      0.92     16103\n",
      "     euskara       1.00      0.62      0.76      6926\n",
      "\n",
      "    accuracy                           0.89     23029\n",
      "   macro avg       0.93      0.81      0.84     23029\n",
      "weighted avg       0.90      0.89      0.88     23029\n",
      "\n"
     ]
    }
   ],
   "source": [
    "# Predecir y evaluar el modelo\n",
    "y_pred_logreg_weighted_encoded= logreg_weighted.predict(X_test)\n",
    "\n",
    "# Convertimos las predicciones de vuelta a las etiquetas originales\n",
    "y_pred_logreg_weighted = label_encoder.inverse_transform(y_pred_logreg_weighted_encoded)\n",
    "\n",
    "# Mostramos el informe de clasificación\n",
    "print(classification_report(y_test, y_pred_logreg_weighted))"
   ]
  },
  {
   "cell_type": "markdown",
   "metadata": {},
   "source": [
    "#### **Análisis de los Resultados**\n",
    "\n",
    "**Resultados Random Forest:**\n",
    "\n",
    "- Precision: Muy buena en ambas clases, especialmente para euskara.\n",
    "- Recall: Muy bueno para castellano (recall 1.00) y decente para euskara (recall 0.72).\n",
    "- F1-Score: Buen balance entre precisión y recall, especialmente para euskara.\n",
    "\n",
    "**Resultados Regresión Logística:**\n",
    "\n",
    "- Precision: Algo más baja que en Random Forest para castellano (0.86) pero sigue siendo buena.\n",
    "- Recall: Muy bueno para castellano (1.00) y decentemente bueno para euskara (0.62).\n",
    "- F1-Score: Mejor para euskara que Random Forest, aunque sigue sin ser excelente.\n",
    "\n",
    "**Comparativa de modelos:**\n",
    "\n",
    "Random Forest tiene un recall perfecto para castellano (1.00) y un recall decente para euskara (0.72), lo que significa que el modelo detecta casi todas las palabras de castellano correctamente y es bastante bueno para euskara también.\n",
    "\n",
    "Regresión Logística tiene un recall perfecto para castellano (1.00), pero recall más bajo para euskara (0.62). A pesar de ser bueno en términos generales, el modelo no captura tantas palabras de euskara como Random Forest."
   ]
  },
  {
   "cell_type": "markdown",
   "metadata": {},
   "source": [
    "### CONFUSION MATRIX RANDOM FOREST"
   ]
  },
  {
   "cell_type": "code",
   "execution_count": 27,
   "metadata": {},
   "outputs": [
    {
     "data": {
      "image/png": "[encoded data removed]",
      "text/plain": [
       "<Figure size 640x480 with 2 Axes>"
      ]
     },
     "metadata": {},
     "output_type": "display_data"
    }
   ],
   "source": [
    "cm = confusion_matrix(y_test, y_pred_weighted, labels=[\"castellano\", \"euskara\"])\n",
    "sns.heatmap(cm, annot=True, fmt=\"d\", cmap=\"Blues\", xticklabels=[\"castellano\", \"euskara\"], yticklabels=[\"castellano\", \"euskara\"])\n",
    "plt.ylabel(\"Actual\")\n",
    "plt.xlabel(\"Predicted\")\n",
    "plt.title(\"Confusion Matrix - Random Forest\")\n",
    "plt.show();"
   ]
  },
  {
   "cell_type": "markdown",
   "metadata": {},
   "source": [
    "**Castellano:**\n",
    "\n",
    "- True Positive: 16150, lo que indica que el modelo ha identificado correctamente muchas palabras en castellano.\n",
    "- False Negative: 12, lo que indica que el modelo ha clasificado incorrectamente solo unas pocas palabras de castellano como euskara.\n",
    "\n",
    "**Euskara:**\n",
    "- False Positive: 1960, lo que significa que el modelo ha clasificado erróneamente muchas palabras de castellano como euskara.\n",
    "True Positive: 4966, indicando que el modelo también ha clasificado correctamente una buena cantidad de palabras en euskara."
   ]
  },
  {
   "cell_type": "markdown",
   "metadata": {},
   "source": [
    "#### SMOTE\n",
    "\n",
    "Aplicar oversampling (SMOTE)"
   ]
  },
  {
   "cell_type": "code",
   "execution_count": 28,
   "metadata": {},
   "outputs": [
    {
     "name": "stdout",
     "output_type": "stream",
     "text": [
      "Distribución de clases después de SMOTE:\n",
      "idioma\n",
      "castellano    37167\n",
      "euskara       37167\n",
      "Name: count, dtype: int64\n"
     ]
    }
   ],
   "source": [
    "# Aplicar SMOTE \n",
    "smote = SMOTE(sampling_strategy=\"auto\", random_state=42)\n",
    "X_smote, y_smote = smote.fit_resample(X_train, y_train)\n",
    "\n",
    "# Codificar etiquetas balanceadas\n",
    "y_smote_encoded = label_encoder.transform(y_smote)\n",
    "y_test_encoded = label_encoder.transform(y_test)\n",
    "\n",
    "# la nueva distribución de clases\n",
    "print(f\"Distribución de clases después de SMOTE:\\n{pd.Series(y_smote).value_counts()}\")"
   ]
  },
  {
   "cell_type": "markdown",
   "metadata": {},
   "source": [
    "#### RANDOM FOREST DESPUÉS DE SMOTE"
   ]
  },
  {
   "cell_type": "code",
   "execution_count": 29,
   "metadata": {},
   "outputs": [
    {
     "name": "stdout",
     "output_type": "stream",
     "text": [
      "              precision    recall  f1-score   support\n",
      "\n",
      "           0       0.89      1.00      0.94     16103\n",
      "           1       1.00      0.72      0.83      6926\n",
      "\n",
      "    accuracy                           0.91     23029\n",
      "   macro avg       0.94      0.86      0.89     23029\n",
      "weighted avg       0.92      0.91      0.91     23029\n",
      "\n"
     ]
    }
   ],
   "source": [
    "# Crear y entrenar el modelo Random Forest con ajuste de pesos de clase\n",
    "rf_model_weighted = RandomForestClassifier(n_estimators=100, class_weight=\"balanced\", random_state=42)\n",
    "rf_model_weighted.fit(X_smote, y_smote_encoded)\n",
    "\n",
    "# Predecir y obtener las etiquetas numéricas\n",
    "y_pred_weighted_encoded = rf_model_weighted.predict(X_test)\n",
    "\n",
    "# Mostrar el informe numericamente\n",
    "print(classification_report(y_test_encoded, y_pred_weighted_encoded))\n"
   ]
  },
  {
   "cell_type": "markdown",
   "metadata": {},
   "source": [
    "No hay cambios"
   ]
  },
  {
   "cell_type": "code",
   "execution_count": 30,
   "metadata": {},
   "outputs": [
    {
     "data": {
      "image/png": "[encoded data removed]",
      "text/plain": [
       "<Figure size 600x600 with 2 Axes>"
      ]
     },
     "metadata": {},
     "output_type": "display_data"
    }
   ],
   "source": [
    "# Calcular la matriz de confusión\n",
    "cm = confusion_matrix(y_test_encoded, y_pred_weighted_encoded)\n",
    "\n",
    "# Visualizar la matriz de confusión\n",
    "plt.figure(figsize=(6,6))\n",
    "sns.heatmap(cm, annot=True, fmt=\"d\", cmap=\"Blues\", xticklabels=label_encoder.classes_, yticklabels=label_encoder.classes_)\n",
    "plt.xlabel(\"Predicción\")\n",
    "plt.ylabel(\"Real\")\n",
    "plt.title(\"Matriz de Confusión después de SMOTE\")\n",
    "plt.show();"
   ]
  },
  {
   "cell_type": "markdown",
   "metadata": {},
   "source": [
    "#### XGBoost"
   ]
  },
  {
   "cell_type": "code",
   "execution_count": 31,
   "metadata": {},
   "outputs": [
    {
     "name": "stdout",
     "output_type": "stream",
     "text": [
      "              precision    recall  f1-score   support\n",
      "\n",
      "           0       0.77      1.00      0.87     16103\n",
      "           1       1.00      0.30      0.46      6926\n",
      "\n",
      "    accuracy                           0.79     23029\n",
      "   macro avg       0.88      0.65      0.67     23029\n",
      "weighted avg       0.84      0.79      0.75     23029\n",
      "\n"
     ]
    }
   ],
   "source": [
    "# Entrenar el modelo\n",
    "model_xgb = xgb.XGBClassifier(scale_pos_weight=1, max_depth=5, learning_rate=0.1, random_state=42)\n",
    "\n",
    "# Entrenar el modelo con los datos balanceados (después de aplicar SMOTE)\n",
    "model_xgb.fit(X_smote, y_smote_encoded)\n",
    "\n",
    "# Predecir y evaluar el modelo\n",
    "y_pred_xgb = model_xgb.predict(X_test)\n",
    "\n",
    "# Mostrar el reporte de clasificación\n",
    "print(classification_report(y_test_encoded, y_pred_xgb))"
   ]
  },
  {
   "cell_type": "markdown",
   "metadata": {},
   "source": [
    "**Análisis de los resultados:**\n",
    "\n",
    "**Random Forest:**\n",
    "\n",
    "    - Precision: 0.89 para castellano, 1.00 para euskara.\n",
    "    - Recall: 1.00 para castellano, 0.72 para euskara.\n",
    "    - F1-score: 0.94 para castellano, 0.84 para euskara.\n",
    "    - Accuracy: 0.91.\n",
    "    - Macro Average: 0.94 (precision), 0.86 (recall), 0.89 (f1).\n",
    "    - Weighted Average: 0.92 (precision), 0.92 (recall), 0.91 (f1).\n",
    "\n",
    "**XGBoost:**\n",
    "\n",
    "    - Precision: 0.77 para castellano, 1.00 para euskara.\n",
    "    - Recall: 1.00 para castellano, 0.30 para euskara.\n",
    "    - F1-score: 0.87 para castellano, 0.46 para euskara.\n",
    "    - Accuracy: 0.79.\n",
    "    - Macro Average: 0.88 (precision), 0.65 (recall), 0.67 (f1).\n",
    "    - Weighted Average: 0.84 (precision), 0.79 (recall), 0.75 (f1).\n",
    "\n",
    "**Comparación de los modelos:**\n",
    "\n",
    "    - Precision:\n",
    "    Random Forest tiene una mayor precisión en castellano (0.89 frente a 0.77 en XGBoost), pero XGBoost tiene precisión perfecta en euskara (1.00 frente a 1.00 al igual que Random Forest).\n",
    "\n",
    "    - Recall:\n",
    "    Random Forest tiene un recall superior para euskara (0.72 frente a 0.30 en XGBoost), lo que significa que Random Forest es mejor para identificar todas las palabras en euskara.\n",
    "    Sin embargo, XGBoost tiene un recall perfecto para castellano (1.00 frente a 1.00 en Random Forest).\n",
    "\n",
    "    - F1-score:\n",
    "    Random Forest tiene un F1-score superior tanto para castellano (0.94 frente a 0.87) como para euskara (0.84 frente a 0.46), lo que refleja un mejor balance entre precisión y recall.\n",
    "\n",
    "    - Accuracy:\n",
    "    Random Forest tiene un accuracy superior (0.91 frente a 0.79 en XGBoost), lo que refleja un mejor rendimiento global.\n",
    "\n",
    "**Conclusión:**\n",
    "\n",
    "**Random Forest** parece ser el mejor modelo en este caso debido a:\n",
    "\n",
    "- Mejor precision en castellano.\n",
    "- Mejor recall en euskara.\n",
    "- Mejor F1-score en ambas clases.\n",
    "- Mejor accuracy en general.\n",
    "\n",
    "XGBoost tiene una precisión perfecta para euskara, pero su bajo recall para euskara hace que pierda muchas palabras en ese idioma, lo que afecta su rendimiento general. Por lo tanto, Random Forest es el modelo más adecuado en este caso.\n",
    "\n"
   ]
  },
  {
   "cell_type": "markdown",
   "metadata": {},
   "source": [
    "#### VALIDACIÓN CRUZADA - RANDOM FOREST"
   ]
  },
  {
   "cell_type": "code",
   "execution_count": 33,
   "metadata": {},
   "outputs": [],
   "source": [
    "rf_model = RandomForestClassifier(n_estimators=100, class_weight=\"balanced\", random_state=42)\n",
    "\n",
    "# la validación cruzada (usamos 5-fold cross-validation)\n",
    "cv_scores = cross_val_score(rf_model, X_vect, y, cv=5, scoring=\"accuracy\")\n"
   ]
  },
  {
   "cell_type": "code",
   "execution_count": 34,
   "metadata": {},
   "outputs": [
    {
     "name": "stdout",
     "output_type": "stream",
     "text": [
      "Scores de validación cruzada: [0.90060574 0.90985475 0.93427566 0.90007817 0.86588067]\n",
      "Promedio de la validación cruzada: 0.9021389986907723\n"
     ]
    }
   ],
   "source": [
    "# Resultados de la validación cruzada\n",
    "print(f\"Scores de validación cruzada: {cv_scores}\")\n",
    "print(f\"Promedio de la validación cruzada: {np.mean(cv_scores)}\")"
   ]
  },
  {
   "cell_type": "markdown",
   "metadata": {},
   "source": [
    "El promedio de la validación cruzada es de 0.9021, lo que indica que el modelo tiene una precisión promedio de aproximadamente el 90.22% a lo largo de las 5 iteraciones. Este es un resultado muy bueno y sugiere que el modelo es bastante sólido.\n",
    "\n",
    "Conclusión con validación cruzada:\n",
    "\n",
    "- El modelo Random Forest sigue demostrando ser el mejor modelo en este caso, con un promedio de validación cruzada de 0.9022 y alta precisión, especialmente en euskara.\n",
    "- El modelo sigue siendo robusto y bien equilibrado, mostrando buenos resultados tanto para precision, recall, como para f1-score en ambas clases.\n",
    "- La validación cruzada ha confirmado que Random Forest es una opción sólida para este problema, con un rendimiento consistente en todos los folds. Esto aumenta la confianza en la estabilidad y fiabilidad del modelo."
   ]
  },
  {
   "cell_type": "markdown",
   "metadata": {},
   "source": [
    "#### VALIDACIÓN GRIDSEARCHCV -RANDOM FOREST"
   ]
  },
  {
   "cell_type": "code",
   "execution_count": 35,
   "metadata": {},
   "outputs": [],
   "source": [
    "# Definir el espacio de búsqueda de hiperparámetros\n",
    "param_grid = {\n",
    "    'n_estimators': [50, 100, 200],             \n",
    "    'max_depth': [5, 10, 20, None],             \n",
    "    'min_samples_split': [2, 5, 10],            \n",
    "    'class_weight': ['balanced', None]  \n",
    "}\n"
   ]
  },
  {
   "cell_type": "code",
   "execution_count": 38,
   "metadata": {},
   "outputs": [
    {
     "data": {
      "text/html": [
       "<style>#sk-container-id-4 {color: black;}#sk-container-id-4 pre{padding: 0;}#sk-container-id-4 div.sk-toggleable {background-color: white;}#sk-container-id-4 label.sk-toggleable__label {cursor: pointer;display: block;width: 100%;margin-bottom: 0;padding: 0.3em;box-sizing: border-box;text-align: center;}#sk-container-id-4 label.sk-toggleable__label-arrow:before {content: \"▸\";float: left;margin-right: 0.25em;color: #696969;}#sk-container-id-4 label.sk-toggleable__label-arrow:hover:before {color: black;}#sk-container-id-4 div.sk-estimator:hover label.sk-toggleable__label-arrow:before {color: black;}#sk-container-id-4 div.sk-toggleable__content {max-height: 0;max-width: 0;overflow: hidden;text-align: left;background-color: #f0f8ff;}#sk-container-id-4 div.sk-toggleable__content pre {margin: 0.2em;color: black;border-radius: 0.25em;background-color: #f0f8ff;}#sk-container-id-4 input.sk-toggleable__control:checked~div.sk-toggleable__content {max-height: 200px;max-width: 100%;overflow: auto;}#sk-container-id-4 input.sk-toggleable__control:checked~label.sk-toggleable__label-arrow:before {content: \"▾\";}#sk-container-id-4 div.sk-estimator input.sk-toggleable__control:checked~label.sk-toggleable__label {background-color: #d4ebff;}#sk-container-id-4 div.sk-label input.sk-toggleable__control:checked~label.sk-toggleable__label {background-color: #d4ebff;}#sk-container-id-4 input.sk-hidden--visually {border: 0;clip: rect(1px 1px 1px 1px);clip: rect(1px, 1px, 1px, 1px);height: 1px;margin: -1px;overflow: hidden;padding: 0;position: absolute;width: 1px;}#sk-container-id-4 div.sk-estimator {font-family: monospace;background-color: #f0f8ff;border: 1px dotted black;border-radius: 0.25em;box-sizing: border-box;margin-bottom: 0.5em;}#sk-container-id-4 div.sk-estimator:hover {background-color: #d4ebff;}#sk-container-id-4 div.sk-parallel-item::after {content: \"\";width: 100%;border-bottom: 1px solid gray;flex-grow: 1;}#sk-container-id-4 div.sk-label:hover label.sk-toggleable__label {background-color: #d4ebff;}#sk-container-id-4 div.sk-serial::before {content: \"\";position: absolute;border-left: 1px solid gray;box-sizing: border-box;top: 0;bottom: 0;left: 50%;z-index: 0;}#sk-container-id-4 div.sk-serial {display: flex;flex-direction: column;align-items: center;background-color: white;padding-right: 0.2em;padding-left: 0.2em;position: relative;}#sk-container-id-4 div.sk-item {position: relative;z-index: 1;}#sk-container-id-4 div.sk-parallel {display: flex;align-items: stretch;justify-content: center;background-color: white;position: relative;}#sk-container-id-4 div.sk-item::before, #sk-container-id-4 div.sk-parallel-item::before {content: \"\";position: absolute;border-left: 1px solid gray;box-sizing: border-box;top: 0;bottom: 0;left: 50%;z-index: -1;}#sk-container-id-4 div.sk-parallel-item {display: flex;flex-direction: column;z-index: 1;position: relative;background-color: white;}#sk-container-id-4 div.sk-parallel-item:first-child::after {align-self: flex-end;width: 50%;}#sk-container-id-4 div.sk-parallel-item:last-child::after {align-self: flex-start;width: 50%;}#sk-container-id-4 div.sk-parallel-item:only-child::after {width: 0;}#sk-container-id-4 div.sk-dashed-wrapped {border: 1px dashed gray;margin: 0 0.4em 0.5em 0.4em;box-sizing: border-box;padding-bottom: 0.4em;background-color: white;}#sk-container-id-4 div.sk-label label {font-family: monospace;font-weight: bold;display: inline-block;line-height: 1.2em;}#sk-container-id-4 div.sk-label-container {text-align: center;}#sk-container-id-4 div.sk-container {/* jupyter's `normalize.less` sets `[hidden] { display: none; }` but bootstrap.min.css set `[hidden] { display: none !important; }` so we also need the `!important` here to be able to override the default hidden behavior on the sphinx rendered scikit-learn.org. See: https://github.com/scikit-learn/scikit-learn/issues/21755 */display: inline-block !important;position: relative;}#sk-container-id-4 div.sk-text-repr-fallback {display: none;}</style><div id=\"sk-container-id-4\" class=\"sk-top-container\"><div class=\"sk-text-repr-fallback\"><pre>GridSearchCV(cv=5, estimator=RandomForestClassifier(random_state=42), n_jobs=-1,\n",
       "             param_grid={&#x27;class_weight&#x27;: [&#x27;balanced&#x27;, None],\n",
       "                         &#x27;max_depth&#x27;: [5, 10, 20, None],\n",
       "                         &#x27;min_samples_split&#x27;: [2, 5, 10],\n",
       "                         &#x27;n_estimators&#x27;: [50, 100, 200]},\n",
       "             scoring=&#x27;accuracy&#x27;)</pre><b>In a Jupyter environment, please rerun this cell to show the HTML representation or trust the notebook. <br />On GitHub, the HTML representation is unable to render, please try loading this page with nbviewer.org.</b></div><div class=\"sk-container\" hidden><div class=\"sk-item sk-dashed-wrapped\"><div class=\"sk-label-container\"><div class=\"sk-label sk-toggleable\"><input class=\"sk-toggleable__control sk-hidden--visually\" id=\"sk-estimator-id-4\" type=\"checkbox\" ><label for=\"sk-estimator-id-4\" class=\"sk-toggleable__label sk-toggleable__label-arrow\">GridSearchCV</label><div class=\"sk-toggleable__content\"><pre>GridSearchCV(cv=5, estimator=RandomForestClassifier(random_state=42), n_jobs=-1,\n",
       "             param_grid={&#x27;class_weight&#x27;: [&#x27;balanced&#x27;, None],\n",
       "                         &#x27;max_depth&#x27;: [5, 10, 20, None],\n",
       "                         &#x27;min_samples_split&#x27;: [2, 5, 10],\n",
       "                         &#x27;n_estimators&#x27;: [50, 100, 200]},\n",
       "             scoring=&#x27;accuracy&#x27;)</pre></div></div></div><div class=\"sk-parallel\"><div class=\"sk-parallel-item\"><div class=\"sk-item\"><div class=\"sk-label-container\"><div class=\"sk-label sk-toggleable\"><input class=\"sk-toggleable__control sk-hidden--visually\" id=\"sk-estimator-id-5\" type=\"checkbox\" ><label for=\"sk-estimator-id-5\" class=\"sk-toggleable__label sk-toggleable__label-arrow\">estimator: RandomForestClassifier</label><div class=\"sk-toggleable__content\"><pre>RandomForestClassifier(random_state=42)</pre></div></div></div><div class=\"sk-serial\"><div class=\"sk-item\"><div class=\"sk-estimator sk-toggleable\"><input class=\"sk-toggleable__control sk-hidden--visually\" id=\"sk-estimator-id-6\" type=\"checkbox\" ><label for=\"sk-estimator-id-6\" class=\"sk-toggleable__label sk-toggleable__label-arrow\">RandomForestClassifier</label><div class=\"sk-toggleable__content\"><pre>RandomForestClassifier(random_state=42)</pre></div></div></div></div></div></div></div></div></div></div>"
      ],
      "text/plain": [
       "GridSearchCV(cv=5, estimator=RandomForestClassifier(random_state=42), n_jobs=-1,\n",
       "             param_grid={'class_weight': ['balanced', None],\n",
       "                         'max_depth': [5, 10, 20, None],\n",
       "                         'min_samples_split': [2, 5, 10],\n",
       "                         'n_estimators': [50, 100, 200]},\n",
       "             scoring='accuracy')"
      ]
     },
     "execution_count": 38,
     "metadata": {},
     "output_type": "execute_result"
    }
   ],
   "source": [
    "# Inicializar el clasificador Random Forest\n",
    "rf_model = RandomForestClassifier(random_state=42)\n",
    "\n",
    "# Configurar GridSearchCV con 5-fold cross-validation\n",
    "grid_search = GridSearchCV(estimator=rf_model, param_grid=param_grid, cv=5, scoring='accuracy', n_jobs=-1)\n",
    "\n",
    "# Entrenr el modelo\n",
    "grid_search.fit(X_train, y_train)"
   ]
  },
  {
   "cell_type": "code",
   "execution_count": 39,
   "metadata": {},
   "outputs": [
    {
     "name": "stdout",
     "output_type": "stream",
     "text": [
      "Mejores parámetros encontrados: {'class_weight': 'balanced', 'max_depth': None, 'min_samples_split': 2, 'n_estimators': 100}\n",
      "              precision    recall  f1-score   support\n",
      "\n",
      "  castellano       0.89      1.00      0.94     16103\n",
      "     euskara       1.00      0.72      0.83      6926\n",
      "\n",
      "    accuracy                           0.91     23029\n",
      "   macro avg       0.94      0.86      0.89     23029\n",
      "weighted avg       0.92      0.91      0.91     23029\n",
      "\n"
     ]
    }
   ],
   "source": [
    "# Imprimir los mejores parámetros\n",
    "print(f\"Mejores parámetros encontrados: {grid_search.best_params_}\")\n",
    "\n",
    "# Obtener el modelo con los mejores parámetros\n",
    "best_rf_model = grid_search.best_estimator_\n",
    "\n",
    "# Predecir y evaluar el modelo con el conjunto de test\n",
    "y_pred_best_rf = best_rf_model.predict(X_test)\n",
    "\n",
    "# Informe de clasificación\n",
    "print(classification_report(y_test, y_pred_best_rf))"
   ]
  },
  {
   "cell_type": "markdown",
   "metadata": {},
   "source": [
    "Mejores parámetros encontrados: La validación de GridSearchCV ha encontrado una combinación de parámetros que parece ser bastante efectiva, aunque los resultados de precisión, recall y F1-score no han cambiado en comparación con los resultados anteriores.\n",
    "\n",
    "Precision en euskara: Aunque la precisión para euskara es perfecta (1.00), el modelo sigue siendo menos capaz de identificar palabras en euskara con un recall de 0.72, lo que indica que el modelo aún podría perder algunas palabras de euskera en las predicciones.\n",
    "\n",
    "Conclusión:\n",
    "\n",
    "El modelo Random Forest con los mejores parámetros encontrados en GridSearchCV sigue siendo robusto y adecuado para este problema.\n",
    "\n",
    "Los resultados siguen siendo sólidos, con una alta precisión en euskara y recall perfecto para castellano.\n",
    "Aunque el ajuste de parámetros no ha producido grandes cambios en las métricas, el modelo sigue funcionando bien y debería ser capaz de manejar el desequilibrio de clases de manera efectiva."
   ]
  },
  {
   "cell_type": "markdown",
   "metadata": {},
   "source": [
    "**Impacto de SMOTE y GridSearchCV**\n",
    "\n",
    "SMOTE: No ha generado cambios significativos en la matriz de confusión, la precisión o el recall. SMOTE ha ayudado a balancear las clases, pero el modelo sigue funcionando de manera similar.\n",
    "\n",
    "GridSearchCV: Tampoco ha producido una mejora, ya que los resultados son los mismos que sin el ajuste de parámetros. Sin embargo, es importante señalar que los parámetros ajustados como class_weight y max_depth, son bastante comunes en problemas desbalanceados, y el hecho de que no haya mejorado mucho podría indicar que el modelo ya estaba ajustado de manera óptima para los datos."
   ]
  },
  {
   "cell_type": "code",
   "execution_count": 42,
   "metadata": {},
   "outputs": [
    {
     "data": {
      "image/png": "[encoded data removed]",
      "text/plain": [
       "<Figure size 640x480 with 1 Axes>"
      ]
     },
     "metadata": {},
     "output_type": "display_data"
    }
   ],
   "source": [
    "# Usar el modelo entrenado (rf_model_weighted en este caso)\n",
    "fpr, tpr, _ = roc_curve(y_test_encoded, rf_model_weighted.predict_proba(X_test)[:, 1])\n",
    "roc_auc = auc(fpr, tpr)\n",
    "\n",
    "# Graficar la curva ROC\n",
    "plt.figure()\n",
    "plt.plot(fpr, tpr, color=\"orange\", lw=2, label=\"ROC curve (area = %0.2f)\" % roc_auc)\n",
    "plt.plot([0, 1], [0, 1], color=\"blue\", lw=2, linestyle='--')\n",
    "plt.xlim([0.0, 1.0])\n",
    "plt.ylim([0.0, 1.05])\n",
    "plt.xlabel(\"Tasa False positive\")\n",
    "plt.ylabel(\"Tasa True positive\")\n",
    "plt.title(\"ROC\")\n",
    "plt.legend(loc=\"lower right\")\n",
    "plt.show();"
   ]
  },
  {
   "cell_type": "markdown",
   "metadata": {},
   "source": [
    "**Análisis de la curva ROC:**\n",
    "\n",
    "La curva ROC que has generado tiene un área bajo la curva (AUC) de 0.86, lo que indica un buen rendimiento del modelo. Por lo que el modelo es bastante efectivo para distinguir entre las dos clases.\n",
    "\n",
    "- AUC = 0.86: Este valor indica que el modelo tiene una buena capacidad de discriminación, ya que el AUC se encuentra bastante cerca de 1. \n",
    "\n",
    "- La curva ROC muestra un buen comportamiento, ya que el modelo tiene un alto True Positive Rate (TPR) y un bajo False Positive Rate (FPR), lo que indica que el modelo tiene un buen balance entre precisión y recall.\n",
    "\n",
    "En conclusión, el modelo está funcionando muy bien."
   ]
  },
  {
   "cell_type": "markdown",
   "metadata": {},
   "source": [
    "### BBDD\n",
    "\n",
    "Creamos la base de datos para cada palabra nueva (euskara y castellano), ya sea del conjunto de entrenamiento o de nuevas palabras a probar con el modelo, clasificarla utilizando el modelo entrenado (en este caso, el modelo de Random Forest). Según la predicción, la palabra se insertará en la tabla correspondiente.\n",
    "\n",
    "Las palabras se insertarán en las tablas de la base de datos asegurándose de que las palabras se ordenen alfabéticamente."
   ]
  },
  {
   "cell_type": "code",
   "execution_count": 59,
   "metadata": {},
   "outputs": [],
   "source": [
    "# Conexión a la base de datos (se creará si no existe)\n",
    "conn = sqlite3.connect(\"palabras_classified.db\")\n",
    "cursor = conn.cursor()\n",
    "\n",
    "# Crear las tablas para euskara y castellano\n",
    "cursor.execute('''\n",
    "CREATE TABLE IF NOT EXISTS euskara (\n",
    "    id INTEGER PRIMARY KEY,\n",
    "    palabra TEXT UNIQUE,\n",
    "    idioma TEXT\n",
    ")\n",
    "''')\n",
    "\n",
    "cursor.execute('''\n",
    "CREATE TABLE IF NOT EXISTS castellano (\n",
    "    id INTEGER PRIMARY KEY,\n",
    "    palabra TEXT UNIQUE,\n",
    "    idioma TEXT\n",
    ")\n",
    "''')\n",
    "\n",
    "# Confirmar que las tablas se crearon correctamente\n",
    "conn.commit()\n",
    "\n",
    "       "
   ]
  },
  {
   "cell_type": "code",
   "execution_count": 60,
   "metadata": {},
   "outputs": [
    {
     "name": "stdout",
     "output_type": "stream",
     "text": [
      "Clases del LabelEncoder: ['castellano' 'euskara']\n",
      "Predicción para 'herria': [1]\n",
      "Euskara: [(1, 'herria', 'euskara')]\n",
      "Castellano: []\n"
     ]
    }
   ],
   "source": [
    "# Función de clasificación e inserción ajustada\n",
    "def classify_and_insert(word, model, label_encoder, vectorizer):\n",
    "    word_vectorized = vectorizer.transform([word]) # Vectorizar la palabra \n",
    "\n",
    "    # Predicción de la palabra\n",
    "    prediction = model.predict(word_vectorized)  \n",
    "    print(f\"Predicción para '{word}': {prediction}\")  \n",
    "\n",
    "    # Convertir el resultado numérico a la etiqueta original (0 castellano y 1 euskara)\n",
    "    pred_label = label_encoder.inverse_transform(prediction)[0]\n",
    "\n",
    "    # Insertar la palabra en la tabla correspondiente\n",
    "    if pred_label == 'euskara':\n",
    "        cursor.execute(f'''\n",
    "        INSERT OR IGNORE INTO euskara (palabra, idioma) \n",
    "        VALUES (?, ?)\n",
    "        ''', (word, 'euskara'))\n",
    "    elif pred_label == 'castellano':\n",
    "        cursor.execute(f'''\n",
    "        INSERT OR IGNORE INTO castellano (palabra, idioma) \n",
    "        VALUES (?, ?)\n",
    "        ''', (word, 'castellano'))\n",
    "\n",
    "    # Confirmar que los cambios se guardaron\n",
    "    conn.commit()\n",
    "\n",
    "# Ejemplo de uso:\n",
    "\n",
    "# Verificamos las clases del LabelEncoder\n",
    "print(f\"Clases del LabelEncoder: {label_encoder.classes_}\")\n",
    "\n",
    "# Solicitamos al usuario que ingrese nuevas palabras, separadas por comas\n",
    "input_words = input(str(\"Ingresa las palabras a clasificar, separadas por comas: \"))\n",
    "\n",
    "# Convertimos la entrada en una lista de palabras\n",
    "new_words = input_words.split(',')\n",
    "\n",
    "# Limpiamos las palabras eliminando espacios adicionales\n",
    "new_words = [word.strip() for word in new_words]\n",
    "\n",
    "# Clasificamos e insertarmos las palabras en las tablas correspondientes\n",
    "for word in new_words:\n",
    "    classify_and_insert(word, rf_model_weighted, label_encoder, vectorizer)\n",
    "\n",
    "# ejemplo de las primeras 5 filas\n",
    "cursor.execute(\"SELECT * FROM euskara LIMIT 5\")\n",
    "print(\"Euskara:\", cursor.fetchall())\n",
    "\n",
    "cursor.execute(\"SELECT * FROM castellano LIMIT 5\")\n",
    "print(\"Castellano:\", cursor.fetchall())\n",
    "\n",
    "# Cerrar la conexión\n",
    "conn.close()\n"
   ]
  },
  {
   "cell_type": "code",
   "execution_count": 61,
   "metadata": {},
   "outputs": [
    {
     "name": "stdout",
     "output_type": "stream",
     "text": [
      "Palabras en Euskara: [(1, 'herria', 'euskara')]\n",
      "Palabras en Castellano: []\n"
     ]
    }
   ],
   "source": [
    "# Verificar las palabras clasificadas en cada tabla\n",
    "conn = sqlite3.connect(\"palabras_classified.db\")\n",
    "cursor = conn.cursor()\n",
    "\n",
    "cursor.execute(\"SELECT * FROM euskara LIMIT 5\")\n",
    "print(\"Palabras en Euskara:\", cursor.fetchall())\n",
    "\n",
    "cursor.execute(\"SELECT * FROM castellano LIMIT 5\")\n",
    "print(\"Palabras en Castellano:\", cursor.fetchall())\n",
    "\n",
    "conn.close()"
   ]
  },
  {
   "cell_type": "code",
   "execution_count": null,
   "metadata": {},
   "outputs": [],
   "source": [
    "#Para eliminar todas las palabras de las tablas\n",
    "\n",
    "conn = sqlite3.connect('palabras_classified.db')\n",
    "cursor = conn.cursor()\n",
    "\n",
    "cursor.execute(\"DELETE FROM euskara\")\n",
    "cursor.execute(\"DELETE FROM castellano\")\n",
    "\n",
    "\n",
    "# Confirmación\n",
    "conn.commit()\n",
    "print(\"Datos eliminados de todas las tablas.\")\n",
    "\n",
    "conn.close()"
   ]
  },
  {
   "cell_type": "code",
   "execution_count": 63,
   "metadata": {},
   "outputs": [
    {
     "data": {
      "text/plain": [
       "['Modelo RandomForest.pkl']"
      ]
     },
     "execution_count": 63,
     "metadata": {},
     "output_type": "execute_result"
    }
   ],
   "source": [
    "# Guardar el modelo entrenado\n",
    "joblib.dump(rf_model_weighted, \"Modelo RandomForest.pkl\")"
   ]
  }
 ],
 "metadata": {
  "kernelspec": {
   "display_name": "Python 3",
   "language": "python",
   "name": "python3"
  },
  "language_info": {
   "codemirror_mode": {
    "name": "ipython",
    "version": 3
   },
   "file_extension": ".py",
   "mimetype": "text/x-python",
   "name": "python",
   "nbconvert_exporter": "python",
   "pygments_lexer": "ipython3",
   "version": "3.8.20"
  }
 },
 "nbformat": 4,
 "nbformat_minor": 2
}
